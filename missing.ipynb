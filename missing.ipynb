{
 "cells": [
  {
   "cell_type": "markdown",
   "metadata": {},
   "source": [
    "# Average daily number of persons reported missing on Eastern Orthodox Church Holidays in Ukraine, 2010-2019"
   ]
  },
  {
   "cell_type": "markdown",
   "metadata": {},
   "source": [
    "This visualization project was concerned with answering the following question - Is an average daily number of persons reported missing on Eastern Orthodox Church Holidays different from an average daily number of persons reported missing on non-holidays in Ukraine?"
   ]
  },
  {
   "cell_type": "markdown",
   "metadata": {},
   "source": [
    "# Data sources\n",
    "Missing persons JSON:\n",
    "https://data.gov.ua/dataset/8851831d-b5ce-4ca8-8685-eafbc3f57eca/resource/6cfff17e-84ac-4141-b0fd-89abb68e9f31/download/mvswantedbezvesti_1.json\n",
    "\n",
    "Wikipedia article about Church holidays in Ukraine:\n",
    "https://uk.wikipedia.org/wiki/%D0%A6%D0%B5%D1%80%D0%BA%D0%BE%D0%B2%D0%BD%D1%96_%D1%81%D0%B2%D1%8F%D1%82%D0%B0\n"
   ]
  },
  {
   "cell_type": "code",
   "execution_count": null,
   "metadata": {},
   "outputs": [],
   "source": [
    "# Data manipulation\n",
    "import pandas as pd\n",
    "import numpy as np\n",
    "# Visualization\n",
    "import seaborn as sns\n",
    "import matplotlib.pyplot as plt\n",
    "# HTTP library\n",
    "import requests"
   ]
  },
  {
   "cell_type": "code",
   "execution_count": null,
   "metadata": {},
   "outputs": [],
   "source": [
    "# Notebook configuration\n",
    "%config InlineBackend.figure_format = 'svg'\n",
    "%matplotlib inline"
   ]
  },
  {
   "cell_type": "markdown",
   "metadata": {},
   "source": [
    "Open data of the Ukrainian Government on persons reported missing was used for this study. We decided to limit ourselves to 10 years period and also discard cases after 2019, thus including the cases of persons that have been reported missing for more than one year."
   ]
  },
  {
   "cell_type": "code",
   "execution_count": null,
   "metadata": {},
   "outputs": [],
   "source": [
    "# Loading JSON data on missing persons\n",
    "url = 'https://data.gov.ua/dataset/8851831d-b5ce-4ca8-8685-eafbc3f57eca/resource/6cfff17e-84ac-4141-b0fd-89abb68e9f31/download/mvswantedbezvesti_1.json'\n",
    "r = requests.get(url)"
   ]
  },
  {
   "cell_type": "code",
   "execution_count": null,
   "metadata": {},
   "outputs": [],
   "source": [
    "# Creating DataFrame\n",
    "df = pd.read_json(r.text)\n",
    "df.head()"
   ]
  },
  {
   "cell_type": "code",
   "execution_count": null,
   "metadata": {},
   "outputs": [],
   "source": [
    "# Checking for invalid dates\n",
    "df.sort_values('LOST_DATE')"
   ]
  },
  {
   "cell_type": "code",
   "execution_count": null,
   "metadata": {},
   "outputs": [],
   "source": [
    "# One entry has invalid date\n",
    "# Dropping invalid entry\n",
    "df = df.drop(df.index[3336])"
   ]
  },
  {
   "cell_type": "code",
   "execution_count": null,
   "metadata": {},
   "outputs": [],
   "source": [
    "# Converting format\n",
    "df['LOST_DATE'] = pd.to_datetime(df['LOST_DATE'])"
   ]
  },
  {
   "cell_type": "code",
   "execution_count": null,
   "metadata": {},
   "outputs": [],
   "source": [
    "# Period of interest\n",
    "df = df[((df['LOST_DATE'].dt.year > 2009) & (df['LOST_DATE'].dt.year < 2020))]"
   ]
  },
  {
   "cell_type": "code",
   "execution_count": null,
   "metadata": {},
   "outputs": [],
   "source": [
    "# Getting data\n",
    "df = df[['LOST_DATE', 'ID']]\n",
    "df = df.rename({'LOST_DATE': 'DATE', 'ID': 'CASES'}, axis=1)\n",
    "# Counting number of cases per day\n",
    "df = df.groupby('DATE').count()\n",
    "df"
   ]
  },
  {
   "cell_type": "code",
   "execution_count": null,
   "metadata": {},
   "outputs": [],
   "source": [
    "# Generating full range of period\n",
    "all_dates = np.arange('2010-01-01', '2020-01-01', dtype='datetime64[D]')\n",
    "all_dates = pd.DataFrame(all_dates)\n",
    "all_dates['Z'] = np.zeros(len(all_dates))\n",
    "all_dates = all_dates.rename({0: 'DATE', 'Z': 'CASES'}, axis=1)\n",
    "all_dates = all_dates.set_index('DATE')"
   ]
  },
  {
   "cell_type": "code",
   "execution_count": null,
   "metadata": {},
   "outputs": [],
   "source": [
    "# Adding number of cases to range, zeros for non cases\n",
    "days = all_dates + df\n",
    "days = days.fillna(0)"
   ]
  },
  {
   "cell_type": "code",
   "execution_count": null,
   "metadata": {},
   "outputs": [],
   "source": [
    "# Average value for all days\n",
    "days_mean = days.mean().squeeze()"
   ]
  },
  {
   "cell_type": "markdown",
   "metadata": {},
   "source": [
    "Wikipedia article was scraped for data about religious holidays in Ukraine. We selected 14 major holidays, 5 of which have movable dates each year. With the help of the article, we generated dates for all holidays in the period."
   ]
  },
  {
   "cell_type": "code",
   "execution_count": null,
   "metadata": {},
   "outputs": [],
   "source": [
    "# Getting data for holidays\n",
    "# Part 1 - Holidays with fixed date\n",
    "# Article about religious holidays in Ukraine\n",
    "wiki_page = pd.read_html('https://uk.wikipedia.org/wiki/%D0%A6%D0%B5%D1%80%D0%BA%D0%BE%D0%B2%D0%BD%D1%96_%D1%81%D0%B2%D1%8F%D1%82%D0%B0')\n",
    "\n",
    "# Text from article\n",
    "raw = '''Різдво Христове (07.01),\n",
    "Водохреща — Йордан (19.01),\n",
    "Стрітення (15.02),\n",
    "Благовіщення (07.04),\n",
    "Преображення — Спаса (19.08),\n",
    "Успіння Пресвятої Богородиці (28.08),\n",
    "Різдво Пресвятої Богородиці (21.09),\n",
    "Воздвиження Чесного Хреста (27.09),\n",
    "Введення Богородиці у храм (04.12).\n",
    "'''\n",
    "# Translation\n",
    "translated = '''Christmas Day (07.01),\n",
    "Baptism of the Lord (19.01),\n",
    "Candlemas (15.02),\n",
    "Annunciation (07.04),\n",
    "Feast of the Transfiguration (19.08),\n",
    "Dormition of the Mother of God (28.08),\n",
    "Nativity of Mary (21.09),\n",
    "Feast of the Cross (27.09),\n",
    "Presentation of Mary (04.12).\n",
    "'''"
   ]
  },
  {
   "cell_type": "code",
   "execution_count": null,
   "metadata": {},
   "outputs": [],
   "source": [
    "# Getting titles of the holidays and yearly dates\n",
    "fixed_lst = translated[:-2].split(',')\n",
    "fixed_lst = [\n",
    "    (f.split('(')[0].strip(), f.split('(')[1][:-1]) for f in fixed_lst\n",
    "    ]"
   ]
  },
  {
   "cell_type": "code",
   "execution_count": null,
   "metadata": {},
   "outputs": [],
   "source": [
    "# Mean values of holidays\n",
    "hol_means = [\n",
    "    days[\n",
    "        (days.index.month == int(h[1][-2:])) & (days.index.day == int(h[1][:2]))\n",
    "        ].mean().squeeze() for h in fixed_lst\n",
    "        ]\n",
    "# Titles of holidays\n",
    "hols = [h[0] for h in fixed_lst]"
   ]
  },
  {
   "cell_type": "code",
   "execution_count": null,
   "metadata": {},
   "outputs": [],
   "source": [
    "# Part 2 - Holidays with movable dates\n",
    "# Loading table with movable holidays from the article\n",
    "move = wiki_page[1]\n",
    "\n",
    "# Titles in Ukrainian\n",
    "mhols = move.columns\n",
    "mhols = mhols[2:-1]\n",
    "\n",
    "# Translation\n",
    "translated = [\n",
    "    'Quinquagesima', 'Triumphal entry into Jerusalem',\n",
    "    'Easter', 'Ascension of Jesus', 'Pentecost'\n",
    "    ]"
   ]
  },
  {
   "cell_type": "code",
   "execution_count": null,
   "metadata": {},
   "outputs": [],
   "source": [
    "# Generating holiday dates for the period\n",
    "move['Рік'] = '.' + move['Рік'].astype(str)\n",
    "for h in mhols:\n",
    "    move[h] = pd.to_datetime(move[h].astype(str) + move['Рік'])\n",
    "\n",
    "# Mean values of movable holidays\n",
    "mhol_means = [\n",
    "    days[days.index.isin(move[h].values)].mean().squeeze() for h in mhols\n",
    "    ]"
   ]
  },
  {
   "cell_type": "code",
   "execution_count": null,
   "metadata": {},
   "outputs": [],
   "source": [
    "# Combining mean values and titles of fixed and movable holidays\n",
    "hol_means.extend(mhol_means)\n",
    "hols.extend(translated)\n",
    "\n",
    "# Sorting data for plotting\n",
    "hol_means, hols = (\n",
    "    list(t) for t in zip(*sorted(zip(hol_means, hols), reverse=True))\n",
    "    )"
   ]
  },
  {
   "cell_type": "code",
   "execution_count": null,
   "metadata": {},
   "outputs": [],
   "source": [
    "# Getting total number of cases for all holidays\n",
    "hol_sum = [\n",
    "    days[\n",
    "        (days.index.month == int(h[1][-2:])) & (days.index.day == int(h[1][:2]))\n",
    "        ].sum().squeeze() for h in fixed_lst\n",
    "        ]\n",
    "mhol_sum = [\n",
    "    days[days.index.isin(move[h].values)].sum().squeeze() for h in mhols\n",
    "    ]\n",
    "hs = sum(hol_sum) + sum(mhol_sum)\n",
    "# Number of non-holidays\n",
    "wd = len(days) - len(hols) * 10\n",
    "# Total number of cases for all period\n",
    "ds = days.sum().squeeze()\n",
    "# Total number of cases for non-holidays\n",
    "ws = ds-hs\n",
    "# Mean value for non-holidays\n",
    "mw = ws / wd"
   ]
  },
  {
   "cell_type": "markdown",
   "metadata": {},
   "source": [
    "A horizontal barplot was used, with bars representing holidays. We sorted the bars to help the reader identify the major trends in the average numbers of missing persons.\n",
    "\n",
    "We marked with two lines the average numbers for Holidays and non-holidays for the reader to see the difference."
   ]
  },
  {
   "cell_type": "code",
   "execution_count": null,
   "metadata": {
    "scrolled": false
   },
   "outputs": [],
   "source": [
    "# Plotting\n",
    "fig, ax = plt.subplots(figsize=(16, 9))\n",
    "\n",
    "# Seaborn style, etc.\n",
    "sns.set_style('white')\n",
    "sns.set_color_codes('pastel')\n",
    "sns.set_context('notebook')\n",
    "\n",
    "# Horizontal barplot\n",
    "sns.barplot(y=hols, x=hol_means, color='lightsteelblue', orient='h')\n",
    "sns.despine(left=True, bottom=True)\n",
    "\n",
    "# Line to mark mean for holidays\n",
    "hml = plt.axvline(np.mean(hol_means), color='grey')\n",
    "# Line to mark mean for non-holidays\n",
    "wml = plt.axvline(mw, color='r')\n",
    "\n",
    "# Labels, legend, etc.\n",
    "plt.title(\n",
    "    'Average daily number of persons reported missing on Eastern Orthodox Church Holidays in Ukraine, 2010-2019',\n",
    "    fontsize= 15, pad=15\n",
    "    )\n",
    "plt.xlabel('Missing Persons')\n",
    "plt.ylabel('Holidays')\n",
    "ax.legend(\n",
    "    [hml, wml],\n",
    "    [\n",
    "        f'{np.mean(hol_means):.2f} - Average daily number of persons reported missing on Church Holidays',\n",
    "        f'{mw:.2f} - Average daily number of persons reported missing on non-holidays'\n",
    "        ],\n",
    "    frameon=False\n",
    "    )\n",
    "\n",
    "# Saving picture\n",
    "plt.savefig(\"missing.png\", bbox_inches='tight', dpi=300)\n",
    "# Showing plot\n",
    "plt.show()"
   ]
  },
  {
   "cell_type": "markdown",
   "metadata": {},
   "source": [
    "The average daily number of persons reported missing on Eastern Orthodox Church Holidays is lower than the average daily number of persons reported missing on non-holidays in Ukraine."
   ]
  },
  {
   "cell_type": "markdown",
   "metadata": {},
   "source": [
    "Addressing Alberto Cairo’s principles of good data visualization:\n",
    "\n",
    "Truthfulness - Generated dates for movable holidays ensured correct data for the period.\n",
    "\n",
    "Beauty - Calm colors were used because this visualization could be emotionally difficult for some readers.\n",
    "\n",
    "Functionality - Data is presented without extra information on the different dates of movable holidays, thus decreasing distraction from the main topic.\n",
    "\n",
    "Insightfulness - The lines that mark average numbers in a visual form reveal the answer to our question."
   ]
  },
  {
   "cell_type": "code",
   "execution_count": null,
   "metadata": {},
   "outputs": [],
   "source": []
  }
 ],
 "metadata": {
  "kernelspec": {
   "display_name": "Python 3",
   "language": "python",
   "name": "python3"
  },
  "language_info": {
   "codemirror_mode": {
    "name": "ipython",
    "version": 3
   },
   "file_extension": ".py",
   "mimetype": "text/x-python",
   "name": "python",
   "nbconvert_exporter": "python",
   "pygments_lexer": "ipython3",
   "version": "3.7.6"
  }
 },
 "nbformat": 4,
 "nbformat_minor": 4
}
